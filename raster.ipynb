{
 "cells": [
  {
   "cell_type": "code",
   "execution_count": 1,
   "metadata": {},
   "outputs": [],
   "source": [
    "import rioxarray as rio\n",
    "import xarray as xr\n"
   ]
  },
  {
   "cell_type": "code",
   "execution_count": 2,
   "metadata": {},
   "outputs": [],
   "source": [
    "\n",
    "red = \"https://sentinel-cogs.s3.us-west-2.amazonaws.com/sentinel-s2-l2a-cogs/20/J/ML/2024/1/S2A_20JML_20240104_0_L2A/B04.tif\"\n",
    "green = \"https://sentinel-cogs.s3.us-west-2.amazonaws.com/sentinel-s2-l2a-cogs/20/J/ML/2024/1/S2A_20JML_20240104_0_L2A/B03.tif\"\n",
    "blue = \"https://sentinel-cogs.s3.us-west-2.amazonaws.com/sentinel-s2-l2a-cogs/20/J/ML/2024/1/S2A_20JML_20240104_0_L2A/B02.tif\"\n",
    "nir = \"https://sentinel-cogs.s3.us-west-2.amazonaws.com/sentinel-s2-l2a-cogs/20/J/ML/2024/1/S2A_20JML_20240104_0_L2A/B08.tif\"\n",
    "\n",
    "red_img = rio.open_rasterio(red, overview_level=2).isel(band=0)\n",
    "green_img = rio.open_rasterio(green, overview_level=2).isel(band=0)\n",
    "blue_img = rio.open_rasterio(blue, overview_level=2).isel(band=0)\n",
    "nir_img = rio.open_rasterio(nir, overview_level=2).isel(band=0)"
   ]
  },
  {
   "cell_type": "code",
   "execution_count": 12,
   "metadata": {},
   "outputs": [],
   "source": [
    "ndvi_img = ((nir_img-red_img)/(nir_img+red_img)).to_dataset(name='ndvi')\n",
    "ndvi_img = ndvi_img.where(ndvi_img<1,other=nir_img.rio.nodata)\n",
    "rgb_img = xr.combine_by_coords([red_img.to_dataset(name='red'),\n",
    "                                green_img.to_dataset(name='green'),\n",
    "                                blue_img.to_dataset(name='blue')\n",
    "                                ])\n",
    "\n",
    "rgb_img.rio.to_raster(\"rgb_img.tif\", driver='COG')\n",
    "ndvi_img.rio.to_raster(\"ndvi_img.tif\", driver='COG')"
   ]
  },
  {
   "cell_type": "code",
   "execution_count": 10,
   "metadata": {},
   "outputs": [
    {
     "data": {
      "text/plain": [
       "0"
      ]
     },
     "execution_count": 10,
     "metadata": {},
     "output_type": "execute_result"
    }
   ],
   "source": []
  },
  {
   "cell_type": "code",
   "execution_count": null,
   "metadata": {},
   "outputs": [],
   "source": []
  }
 ],
 "metadata": {
  "kernelspec": {
   "display_name": ".venv",
   "language": "python",
   "name": "python3"
  },
  "language_info": {
   "codemirror_mode": {
    "name": "ipython",
    "version": 3
   },
   "file_extension": ".py",
   "mimetype": "text/x-python",
   "name": "python",
   "nbconvert_exporter": "python",
   "pygments_lexer": "ipython3",
   "version": "3.10.12"
  }
 },
 "nbformat": 4,
 "nbformat_minor": 2
}
